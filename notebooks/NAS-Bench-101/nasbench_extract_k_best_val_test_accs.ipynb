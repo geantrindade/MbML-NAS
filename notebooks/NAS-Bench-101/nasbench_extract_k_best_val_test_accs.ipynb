{
 "cells": [
  {
   "cell_type": "code",
   "execution_count": 1,
   "id": "favorite-abuse",
   "metadata": {},
   "outputs": [],
   "source": [
    "import argparse\n",
    "\n",
    "import os\n",
    "import random\n",
    "import numpy as np\n",
    "import pandas as pd"
   ]
  },
  {
   "cell_type": "code",
   "execution_count": 2,
   "id": "sharp-aggregate",
   "metadata": {},
   "outputs": [],
   "source": [
    "parser = argparse.ArgumentParser()\n",
    " \n",
    "parser.add_argument('--data_path', type=str, default='/home/gean/Code/nns_performance_prediction/results/fast/test12/', \n",
    "                    help='k_best_archs csv location')    \n",
    "parser.add_argument('--results_path', type=str, default='/home/gean/Code/nns_performance_prediction/results/fast/test12/',\n",
    "                    help='results dir location')\n",
    "parser.add_argument('--k', type=int, default=10, \n",
    "                    help='number of k best archs to extract accs')\n",
    "\n",
    "#'+' == 1 or more, '*' == 0 or more, '?' == 0 or 1.\n",
    "parser.add_argument('--data_subset', type=int, default=[12, 36], nargs='+',\n",
    "                    help='one of the subsets from nasbench101 with 4, 12, 36, or 108 epochs')\n",
    "parser.add_argument('--seed', type=int, default=[0, 1, 10, 42, 100, 123, 666, 1000, 1234, 12345], nargs='+', \n",
    "                    help='seeds used for all the random procedures') \n",
    "parser.add_argument('--train_size', type=int, default=[43, 86, 129, 172, 344, 860], nargs='+',\n",
    "                    help='training split size')\n",
    "parser.add_argument('--estimators', type=str, default=['LinearRegression', 'SGDRegressor', 'Lasso', 'BayesianRidge', \n",
    "                                                       'KNeighborsRegressor', 'DecisionTreeRegressor', 'SVR', 'MLPRegressor',\n",
    "                                                       'RandomForestRegressor', 'AdaBoostRegressor', 'GradientBoostingRegressor', \n",
    "                                                       'DummyRegressor'], nargs='+',\n",
    "                    help='list of sklearn estimators used for training') \n",
    "parser.add_argument('--verbose', type=int, default=1, \n",
    "                    help='control the logging prints. 0 for deactivate and 1 for activate') \n",
    "\n",
    "args, unknown = parser.parse_known_args()"
   ]
  },
  {
   "cell_type": "code",
   "execution_count": 3,
   "id": "dangerous-terror",
   "metadata": {},
   "outputs": [],
   "source": [
    "def get_dataframe(subset, n):\n",
    "    df_whole = pd.read_csv(str(args.data_path + str(\"Subset\") + str(subset) + \"_N\" + str(n) + \n",
    "                               \"_K\" + str(args.k) + \"_nasbench_best_archs.csv\"))\n",
    "                           \n",
    "    return df_whole"
   ]
  },
  {
   "cell_type": "code",
   "execution_count": 4,
   "id": "bibliographic-fiction",
   "metadata": {},
   "outputs": [],
   "source": [
    "def save_results(performance_dict, subset, n): \n",
    "    df_results = pd.DataFrame.from_dict(performance_dict)\n",
    "    df_results.to_csv(str(args.results_path + str(\"Subset\" + str(subset) + \"_N\" + str(n) + \n",
    "                                                  \"_K\" + str(args.k) + \"_nasbench_best_val_test_accs.csv\")),\n",
    "                                                  index=False, float_format='%.6f')\n",
    "    \n",
    "    print(str(args.results_path + \"Subset\" + str(subset) + \"_N\" + str(n) + \"_K\" + str(args.k) + \"_nasbench_best_val_test_accs.csv -> GENERATED\"))"
   ]
  },
  {
   "cell_type": "code",
   "execution_count": null,
   "id": "broke-professional",
   "metadata": {},
   "outputs": [],
   "source": [
    "if __name__ == '__main__':  \n",
    "    print(\"data_path: \", args.data_path)\n",
    "    print(\"results_path: \", args.results_path)\n",
    "    print(\"k: \", args.k)\n",
    "    print(\"data_subset: \", args.data_subset)\n",
    "    print(\"seed: \", args.seed)\n",
    "    print(\"train_size: \", args.train_size)\n",
    "    print(\"estimators: \", args.estimators)\n",
    "    print(\"verbose: \", args.verbose, end=\"\\n\\n\")\n",
    "    \n",
    "    for subset in args.data_subset:\n",
    "        \n",
    "        for n in args.train_size:\n",
    "            df_whole = get_dataframe(subset, n)\n",
    "            formatted_best_archs_file = {'K': [], 'Model': [], 'Seed': [], 'True_Val_Acc': [], 'True_Test_Acc': []}\n",
    "            \n",
    "            for seed in args.seed:\n",
    "                \n",
    "                for reg in args.estimators:\n",
    "                    if args.verbose:\n",
    "                        print(\"Subset{}, N{}, Seed{}, {}\".format(subset, n, seed, reg))\n",
    "\n",
    "                    for k in range(1, args.k+1):\n",
    "                        df = df_whole.loc[(df_whole['Model'] == reg) & (df_whole['Seed'] == seed)]\n",
    "\n",
    "                        true_val_accs = list(df['True_Val_Acc'][0:k]) #from k best pred_val_accs\n",
    "                        true_val_accs.sort(reverse=True)\n",
    "                        true_test_accs = list(df['True_Test_Acc'][0:k]) #from k best pred_val_accs\n",
    "                        true_test_accs.sort(reverse=True)\n",
    "\n",
    "                        formatted_best_archs_file['K'].append(k)\n",
    "                        formatted_best_archs_file['Model'].append(reg)\n",
    "                        formatted_best_archs_file['Seed'].append(seed)\n",
    "                        formatted_best_archs_file['True_Val_Acc'].append(true_val_accs[0])\n",
    "                        formatted_best_archs_file['True_Test_Acc'].append(true_test_accs[0])\n",
    "                    \n",
    "            save_results(formatted_best_archs_file, subset, n) "
   ]
  },
  {
   "cell_type": "code",
   "execution_count": null,
   "id": "hundred-guide",
   "metadata": {},
   "outputs": [],
   "source": []
  }
 ],
 "metadata": {
  "kernelspec": {
   "display_name": "Python 3",
   "language": "python",
   "name": "python3"
  },
  "language_info": {
   "codemirror_mode": {
    "name": "ipython",
    "version": 3
   },
   "file_extension": ".py",
   "mimetype": "text/x-python",
   "name": "python",
   "nbconvert_exporter": "python",
   "pygments_lexer": "ipython3",
   "version": "3.8.5"
  }
 },
 "nbformat": 4,
 "nbformat_minor": 5
}
