{
 "cells": [
  {
   "cell_type": "code",
   "execution_count": 9,
   "id": "devoted-merchant",
   "metadata": {},
   "outputs": [],
   "source": [
    "import argparse\n",
    "import pandas as pd"
   ]
  },
  {
   "cell_type": "code",
   "execution_count": 17,
   "id": "contrary-sherman",
   "metadata": {},
   "outputs": [],
   "source": [
    "parser = argparse.ArgumentParser()\n",
    " \n",
    "parser.add_argument('--data_path', type=str, default='/home/gean/Code/nns_performance_prediction/meta_datasets/', \n",
    "                    help='location of the dataset')    \n",
    "parser.add_argument('--results_path', type=str, default='/home/gean/Code/nns_performance_prediction/results/oracle/', \n",
    "                    help='location of the results directory')    \n",
    "parser.add_argument('--k', type=int, default=5000, \n",
    "                    help='number of k best archs to extract accs')\n",
    "\n",
    "#'+' == 1 or more, '*' == 0 or more, '?' == 0 or 1.\n",
    "parser.add_argument('--data_subset', type=int, default=[4, 12, 36, 108], nargs='+', \n",
    "                    help='one of the subsets from nasbench101 with 1, 4, 12, 36, or 108 epochs')\n",
    "parser.add_argument('--verbose', type=int, default=1, \n",
    "                    help='control the logging prints. 0 for deactivate and 1 for activate')\n",
    "\n",
    "args, unknown = parser.parse_known_args() "
   ]
  },
  {
   "cell_type": "code",
   "execution_count": 18,
   "id": "talented-surfing",
   "metadata": {},
   "outputs": [],
   "source": [
    "def save_results(performance_dict, subset): \n",
    "    df_results = pd.DataFrame.from_dict(performance_dict)\n",
    "    df_results.to_csv(str(args.results_path + 'nasbench101_' + str(subset) + 'epochs_k' + \n",
    "                          str(args.k) + '_oracle.csv'), index=False, float_format='%.6f')\n",
    "    \n",
    "    return df_results"
   ]
  },
  {
   "cell_type": "code",
   "execution_count": 19,
   "id": "qualified-journalism",
   "metadata": {},
   "outputs": [],
   "source": [
    "def main():\n",
    "    for subset in args.data_subset:\n",
    "        '''\n",
    "        best_test_acc -> best test acc of the whole subset\n",
    "        true_valid_acc -> best valid acc of the whole subset\n",
    "        true_test_acc -> test acc of the arch with the best true_valid_acc of the whole subset \n",
    "        '''\n",
    "        try:\n",
    "            df_whole = pd.read_csv(str(args.data_path + 'nasbench101_' + str(subset) + 'epochs_tabular.csv'))\n",
    "        except FileNotFoundError as e:\n",
    "            print(e)\n",
    "            continue\n",
    "            \n",
    "        if args.verbose: print(\"\\n\\n######### Subset{}\".format(subset))\n",
    "\n",
    "        best_test_acc = df_whole.sort_values(by='final_test_accuracy', ascending=False).iloc[0]['final_test_accuracy']    \n",
    "        best_acc_val_row = df_whole.sort_values(by='final_validation_accuracy', ascending=False).iloc[0]\n",
    "        true_val_acc = best_acc_val_row['final_validation_accuracy']\n",
    "        true_test_acc = best_acc_val_row['final_test_accuracy']\n",
    "\n",
    "        #results for each k does not change in the oracle\n",
    "        df_dict = {'Epoch': [subset] * args.k, \n",
    "                   'Model': ['Oracle'] * args.k, \n",
    "                   'K': list(range(1, args.k + 1)), \n",
    "                   'True_Val_Acc': [true_val_acc] * args.k, \n",
    "                   'True_Test_Acc': [true_test_acc] * args.k, \n",
    "                   'Best_Test_Acc': [best_test_acc] * args.k}            \n",
    "\n",
    "        # one per dataset-subset\n",
    "        df_results = save_results(df_dict, subset)\n",
    "        if args.verbose: print(df_results.head())"
   ]
  },
  {
   "cell_type": "code",
   "execution_count": 20,
   "id": "earned-findings",
   "metadata": {},
   "outputs": [
    {
     "name": "stdout",
     "output_type": "stream",
     "text": [
      "data_path:  /home/gean/Code/nns_performance_prediction/meta_datasets/\n",
      "results_path:  /home/gean/Code/nns_performance_prediction/results/oracle/\n",
      "k:  5000\n",
      "data_subset:  [4, 12, 36, 108]\n",
      "verbose:  1\n",
      "\n",
      "\n",
      "######### Subset4\n",
      "   Epoch   Model  K  True_Val_Acc  True_Test_Acc  Best_Test_Acc\n",
      "0      4  Oracle  1      0.708433       0.698651       0.701088\n",
      "1      4  Oracle  2      0.708433       0.698651       0.701088\n",
      "2      4  Oracle  3      0.708433       0.698651       0.701088\n",
      "3      4  Oracle  4      0.708433       0.698651       0.701088\n",
      "4      4  Oracle  5      0.708433       0.698651       0.701088\n",
      "\n",
      "\n",
      "######### Subset12\n",
      "   Epoch   Model  K  True_Val_Acc  True_Test_Acc  Best_Test_Acc\n",
      "0     12  Oracle  1      0.876536       0.867755       0.867755\n",
      "1     12  Oracle  2      0.876536       0.867755       0.867755\n",
      "2     12  Oracle  3      0.876536       0.867755       0.867755\n",
      "3     12  Oracle  4      0.876536       0.867755       0.867755\n",
      "4     12  Oracle  5      0.876536       0.867755       0.867755\n",
      "\n",
      "\n",
      "######### Subset36\n",
      "   Epoch   Model  K  True_Val_Acc  True_Test_Acc  Best_Test_Acc\n",
      "0     36  Oracle  1      0.933761       0.926115       0.926315\n",
      "1     36  Oracle  2      0.933761       0.926115       0.926315\n",
      "2     36  Oracle  3      0.933761       0.926115       0.926315\n",
      "3     36  Oracle  4      0.933761       0.926115       0.926315\n",
      "4     36  Oracle  5      0.933761       0.926115       0.926315\n",
      "\n",
      "\n",
      "######### Subset108\n",
      "   Epoch   Model  K  True_Val_Acc  True_Test_Acc  Best_Test_Acc\n",
      "0    108  Oracle  1      0.950554       0.942341       0.943176\n",
      "1    108  Oracle  2      0.950554       0.942341       0.943176\n",
      "2    108  Oracle  3      0.950554       0.942341       0.943176\n",
      "3    108  Oracle  4      0.950554       0.942341       0.943176\n",
      "4    108  Oracle  5      0.950554       0.942341       0.943176\n"
     ]
    }
   ],
   "source": [
    "if __name__ == '__main__':\n",
    "    print(\"data_path: \", args.data_path)\n",
    "    print(\"results_path: \", args.results_path)\n",
    "    print(\"k: \", args.k)\n",
    "    print(\"data_subset: \", args.data_subset)   \n",
    "    print(\"verbose: \", args.verbose)   \n",
    "    \n",
    "    main()"
   ]
  },
  {
   "cell_type": "code",
   "execution_count": null,
   "id": "sealed-recovery",
   "metadata": {},
   "outputs": [],
   "source": []
  },
  {
   "cell_type": "code",
   "execution_count": null,
   "id": "recovered-helping",
   "metadata": {},
   "outputs": [],
   "source": []
  }
 ],
 "metadata": {
  "kernelspec": {
   "display_name": "Python 3",
   "language": "python",
   "name": "python3"
  },
  "language_info": {
   "codemirror_mode": {
    "name": "ipython",
    "version": 3
   },
   "file_extension": ".py",
   "mimetype": "text/x-python",
   "name": "python",
   "nbconvert_exporter": "python",
   "pygments_lexer": "ipython3",
   "version": "3.8.5"
  }
 },
 "nbformat": 4,
 "nbformat_minor": 5
}
